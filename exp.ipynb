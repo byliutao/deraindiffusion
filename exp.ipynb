{
 "cells": [
  {
   "cell_type": "code",
   "execution_count": null,
   "metadata": {},
   "outputs": [],
   "source": [
    "import os\n",
    "import torch\n",
    "from dataclasses import dataclass\n",
    "import wplus_utils\n",
    "from diffusers import StableDiffusionPipeline, DDIMScheduler\n",
    "import ptp_utils"
   ]
  },
  {
   "cell_type": "code",
   "execution_count": null,
   "metadata": {},
   "outputs": [],
   "source": [
    "@dataclass\n",
    "class TestConfig:\n",
    "    model_path = \"/data/model/stable-diffusion-v1-5\"\n",
    "    image_path = \"/home/liutao/workspace/deraindiffusion/images/test_image/rain/a bird standing on a fence in the rain.jpg\"\n",
    "    seed = 2024\n",
    "    prompt = \"a bird standing on a fence in the rain\"\n",
    "    negative_prompt = \"rain\"\n",
    "    base_save_path = \"/home/liutao/workspace/deraindiffusion/images/test_result\"\n",
    "    tao = 0.8 \n",
    "    regular = 1e-7\n",
    "    self_replace_steps = 0.0\n",
    "    cross_replace_steps = 0.0\n",
    "    verbose = True\n",
    "    device = \"cuda\"\n",
    "    num_ddim_steps= 50\n",
    "    guidance_scale = 7.5\n",
    "    max_num_words = 77\n",
    "    learning_rate = 1e1\n",
    "    num_inner_steps = 10\n",
    "    yaml_file_path = \"/home/liutao/workspace/deraindiffusion/text_images_info.yaml\"\n",
    "    save_path = \"\"\n",
    "args = TestConfig()"
   ]
  },
  {
   "cell_type": "code",
   "execution_count": null,
   "metadata": {},
   "outputs": [],
   "source": [
    "# load model\n",
    "scheduler = DDIMScheduler(beta_start=0.00085, beta_end=0.012, beta_schedule=\"scaled_linear\", clip_sample=False, set_alpha_to_one=False, steps_offset=1)\n",
    "device = torch.device(args.device) if torch.cuda.is_available() else torch.device('cpu')\n",
    "ldm_stable = StableDiffusionPipeline.from_pretrained(args.model_path, local_files_only=True, scheduler=scheduler).to(device)\n",
    "try:\n",
    "    ldm_stable.disable_xformers_memory_efficient_attention()\n",
    "except AttributeError:\n",
    "    print(\"Attribute disable_xformers_memory_efficient_attention() is missing\")\n",
    "\n",
    "torch.Generator(device=device).manual_seed(args.seed)\n",
    "wplus_utils.init_global(args, ldm_stable.tokenizer)\n",
    "\n",
    "# W optimize\n",
    "matrix_inversion = wplus_utils.MatrixInversion(ldm_stable,inner_steps_num=None,lambda_norm=args.regular,use_freq=False,use_attn_loss=False) #derain 1e-7, 0 \n",
    "(image_gt, image_enc), x_t, uncond_embeddings, w_matrices = matrix_inversion.invert(args.image_path, args.prompt, offsets=(0,0,0,0), num_inner_steps=args.num_inner_steps, verbose=args.verbose, learning_rate=args.learning_rate)\n"
   ]
  },
  {
   "cell_type": "code",
   "execution_count": null,
   "metadata": {},
   "outputs": [],
   "source": [
    "prompts = [args.prompt]\n",
    "# image reconstruct (use empty negetive prompt)\n",
    "controller = wplus_utils.AttentionStore()\n",
    "image_inv, x_t = wplus_utils.run_and_display(ldm_stable, prompts, controller, run_baseline=False, latent=x_t, uncond_embeddings=None, optimize_matrices=w_matrices, verbose=False)\n",
    "wplus_utils.show_cross_attention(controller,16,[\"up\",\"mid\",\"down\"],prompts,ldm_stable,0)\n",
    "\n",
    "# image remove (use negative prompt)\n",
    "controller = wplus_utils.WplusAttentionStore(cross_replace_steps=args.cross_replace_steps,self_replace_steps=args.self_replace_steps)\n",
    "image_remove, x_t = wplus_utils.run_and_display(ldm_stable, prompts, controller, run_baseline=False, latent=x_t, uncond_embeddings=None, optimize_matrices=w_matrices, negative_prompt=args.negative_prompt, verbose=False, tao=args.tao)\n",
    "wplus_utils.show_cross_attention(controller,16,[\"up\",\"mid\",\"down\"],prompts,ldm_stable,0,negative_prompt=args.negative_prompt)\n",
    "\n",
    "result = ptp_utils.get_view_images([image_gt, image_inv[0], image_remove[0]],verbose=args.verbose)\n",
    "if args.save_path is not None:\n",
    "    result.save(os.path.join(args.save_path,args.prompt+\"_remove_\"+args.negative_prompt+\".jpg\"))"
   ]
  }
 ],
 "metadata": {
  "kernelspec": {
   "display_name": "derainsd",
   "language": "python",
   "name": "python3"
  },
  "language_info": {
   "codemirror_mode": {
    "name": "ipython",
    "version": 3
   },
   "file_extension": ".py",
   "mimetype": "text/x-python",
   "name": "python",
   "nbconvert_exporter": "python",
   "pygments_lexer": "ipython3",
   "version": "3.8.19"
  }
 },
 "nbformat": 4,
 "nbformat_minor": 2
}
