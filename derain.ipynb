{
 "cells": [
  {
   "cell_type": "code",
   "execution_count": null,
   "metadata": {},
   "outputs": [],
   "source": [
    "import wplus_utils\n",
    "import torch\n",
    "from diffusers import StableDiffusionPipeline, DDIMScheduler\n",
    "import ptp_utils"
   ]
  },
  {
   "cell_type": "code",
   "execution_count": null,
   "metadata": {},
   "outputs": [],
   "source": [
    "scheduler = DDIMScheduler(beta_start=0.00085, beta_end=0.012, beta_schedule=\"scaled_linear\", clip_sample=False, set_alpha_to_one=False, steps_offset=1)\n",
    "device = torch.device('cuda:0') if torch.cuda.is_available() else torch.device('cpu')\n",
    "ldm_stable = StableDiffusionPipeline.from_pretrained(\"CompVis/stable-diffusion-v1-4\", local_files_only=True, scheduler=scheduler, force_download=True).to(device)\n",
    "try:\n",
    "    ldm_stable.disable_xformers_memory_efficient_attention()\n",
    "except AttributeError:\n",
    "    print(\"Attribute disable_xformers_memory_efficient_attention() is missing\")\n",
    "tokenizer = ldm_stable.tokenizer"
   ]
  },
  {
   "cell_type": "code",
   "execution_count": null,
   "metadata": {},
   "outputs": [],
   "source": [
    "image_path = \"./example_images/a black bear climb a tree in rain.png\"\n",
    "prompt = \"a black bear climb a tree in rain\"\n",
    "\n",
    "matrix_inversion = wplus_utils.MatrixInversion(ldm_stable,inner_steps_num=None,lambda_norm=0e-7,use_freq=False,use_attn_loss=False) #derain 1e-7\n",
    "(image_gt, image_enc), x_t, uncond_embeddings, w_matrices = matrix_inversion.invert(image_path, prompt, offsets=(0,0,0,0), num_inner_steps=10, verbose=True, learning_rate=1e1)\n",
    "# w_modify_end(w_matrices,0.5)"
   ]
  },
  {
   "cell_type": "code",
   "execution_count": null,
   "metadata": {},
   "outputs": [],
   "source": [
    "prompts = [prompt]\n",
    "cross_replace_steps = 0.0\n",
    "self_replace_steps = 0.0\n",
    "tao = 0.9\n",
    "negative_prompt = \"rain\"\n",
    "\n",
    "controller = wplus_utils.WplusAttentionStore(cross_replace_steps=cross_replace_steps,self_replace_steps=self_replace_steps)\n",
    "image_derain, x_t = wplus_utils.run_and_display(ldm_stable, prompts, controller, run_baseline=False, latent=x_t, uncond_embeddings=None, optimize_matrices=w_matrices, negative_prompt=negative_prompt, verbose=False, tao=tao)\n",
    "wplus_utils.show_cross_attention(controller,16,[\"up\", \"down\"],prompts,ldm_stable,0,negative_prompt=negative_prompt)\n",
    "controller = wplus_utils.AttentionStore()\n",
    "image_inv, x_t = wplus_utils.run_and_display(ldm_stable, prompts, controller, run_baseline=False, latent=x_t, uncond_embeddings=None, optimize_matrices=w_matrices, verbose=False)\n",
    "wplus_utils.show_cross_attention(controller,16,[\"up\", \"down\"],prompts,ldm_stable,0)\n",
    "# show_self_attention_comp(controller,16,[\"up\", \"down\"],10,0)\n",
    "print(\"showing from left to right: the ground truth image, w+ reconstruction, w+ derain\")\n",
    "ptp_utils.view_images([image_gt, image_inv[0], image_derain[0]])\n",
    "\n",
    "p = wplus_utils.compare_psnr(image_gt, image_inv[0])\n",
    "s = wplus_utils.compare_ssim(image_gt, image_inv[0], multichannel=True, channel_axis=2)  # 对于多通道图像(RGB、HSV等)关键词multichannel要设置为True\n",
    "m = wplus_utils.compare_mse(image_gt, image_inv[0])\n",
    " \n",
    "print('PSNR：{}，SSIM：{}，MSE：{}'.format(p, s, m))"
   ]
  }
 ],
 "metadata": {
  "kernelspec": {
   "display_name": "base",
   "language": "python",
   "name": "python3"
  },
  "language_info": {
   "codemirror_mode": {
    "name": "ipython",
    "version": 3
   },
   "file_extension": ".py",
   "mimetype": "text/x-python",
   "name": "python",
   "nbconvert_exporter": "python",
   "pygments_lexer": "ipython3",
   "version": "3.11.4"
  }
 },
 "nbformat": 4,
 "nbformat_minor": 2
}
